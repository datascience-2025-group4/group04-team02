{
 "cells": [
  {
   "cell_type": "code",
   "execution_count": 6,
   "id": "88b2af96",
   "metadata": {},
   "outputs": [],
   "source": [
    "#Daten importieren\n",
    "import pandas as pd\n",
    "df = pd.read_csv(\"../data/ab_ag.tsv\", sep=\"\\t\")\n",
    "\n",
    "#alle Zeilen in denen NaN vorkommt entfernen \n",
    "df = df.dropna()\n",
    "\n",
    "\n",
    "\n"
   ]
  }
 ],
 "metadata": {
  "kernelspec": {
   "display_name": "base",
   "language": "python",
   "name": "python3"
  },
  "language_info": {
   "codemirror_mode": {
    "name": "ipython",
    "version": 3
   },
   "file_extension": ".py",
   "mimetype": "text/x-python",
   "name": "python",
   "nbconvert_exporter": "python",
   "pygments_lexer": "ipython3",
   "version": "3.12.7"
  }
 },
 "nbformat": 4,
 "nbformat_minor": 5
}
