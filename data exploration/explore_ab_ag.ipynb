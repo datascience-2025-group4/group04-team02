{
 "cells": [
  {
   "cell_type": "code",
   "execution_count": 14,
   "id": "31621665",
   "metadata": {},
   "outputs": [
    {
     "data": {
      "text/html": [
       "<div>\n",
       "<style scoped>\n",
       "    .dataframe tbody tr th:only-of-type {\n",
       "        vertical-align: middle;\n",
       "    }\n",
       "\n",
       "    .dataframe tbody tr th {\n",
       "        vertical-align: top;\n",
       "    }\n",
       "\n",
       "    .dataframe thead th {\n",
       "        text-align: right;\n",
       "    }\n",
       "</style>\n",
       "<table border=\"1\" class=\"dataframe\">\n",
       "  <thead>\n",
       "    <tr style=\"text-align: right;\">\n",
       "      <th></th>\n",
       "      <th>pdb</th>\n",
       "      <th>Hchain</th>\n",
       "      <th>Lchain</th>\n",
       "      <th>model</th>\n",
       "      <th>antigen_chain</th>\n",
       "      <th>antigen_type</th>\n",
       "      <th>antigen_het_name</th>\n",
       "      <th>antigen_name</th>\n",
       "      <th>short_header</th>\n",
       "      <th>date</th>\n",
       "      <th>...</th>\n",
       "      <th>scfv</th>\n",
       "      <th>engineered</th>\n",
       "      <th>heavy_subclass</th>\n",
       "      <th>light_subclass</th>\n",
       "      <th>light_ctype</th>\n",
       "      <th>affinity</th>\n",
       "      <th>delta_g</th>\n",
       "      <th>affinity_method</th>\n",
       "      <th>temperature</th>\n",
       "      <th>pmid</th>\n",
       "    </tr>\n",
       "  </thead>\n",
       "  <tbody>\n",
       "    <tr>\n",
       "      <th>0</th>\n",
       "      <td>9ds2</td>\n",
       "      <td>G</td>\n",
       "      <td>I</td>\n",
       "      <td>0</td>\n",
       "      <td>D | C</td>\n",
       "      <td>protein | protein</td>\n",
       "      <td>NA | NA</td>\n",
       "      <td>hemagglutinin ha2 chain | hemagglutinin ha1 chai</td>\n",
       "      <td>VIRAL PROTEIN/IMMUNE SYSTEM</td>\n",
       "      <td>03/19/25</td>\n",
       "      <td>...</td>\n",
       "      <td>False</td>\n",
       "      <td>True</td>\n",
       "      <td>IGHV3</td>\n",
       "      <td>IGKV3</td>\n",
       "      <td>Kappa</td>\n",
       "      <td>NaN</td>\n",
       "      <td>NaN</td>\n",
       "      <td>NaN</td>\n",
       "      <td>NaN</td>\n",
       "      <td>NaN</td>\n",
       "    </tr>\n",
       "    <tr>\n",
       "      <th>1</th>\n",
       "      <td>9ds2</td>\n",
       "      <td>H</td>\n",
       "      <td>J</td>\n",
       "      <td>0</td>\n",
       "      <td>B | A</td>\n",
       "      <td>protein | protein</td>\n",
       "      <td>NA | NA</td>\n",
       "      <td>hemagglutinin ha2 chain | hemagglutinin ha1 chai</td>\n",
       "      <td>VIRAL PROTEIN/IMMUNE SYSTEM</td>\n",
       "      <td>03/19/25</td>\n",
       "      <td>...</td>\n",
       "      <td>False</td>\n",
       "      <td>True</td>\n",
       "      <td>IGHV3</td>\n",
       "      <td>IGKV3</td>\n",
       "      <td>Kappa</td>\n",
       "      <td>NaN</td>\n",
       "      <td>NaN</td>\n",
       "      <td>NaN</td>\n",
       "      <td>NaN</td>\n",
       "      <td>NaN</td>\n",
       "    </tr>\n",
       "    <tr>\n",
       "      <th>2</th>\n",
       "      <td>9ds2</td>\n",
       "      <td>K</td>\n",
       "      <td>L</td>\n",
       "      <td>0</td>\n",
       "      <td>F | E</td>\n",
       "      <td>protein | protein</td>\n",
       "      <td>NA | NA</td>\n",
       "      <td>hemagglutinin ha2 chain | hemagglutinin ha1 chai</td>\n",
       "      <td>VIRAL PROTEIN/IMMUNE SYSTEM</td>\n",
       "      <td>03/19/25</td>\n",
       "      <td>...</td>\n",
       "      <td>False</td>\n",
       "      <td>True</td>\n",
       "      <td>IGHV3</td>\n",
       "      <td>IGKV3</td>\n",
       "      <td>Kappa</td>\n",
       "      <td>NaN</td>\n",
       "      <td>NaN</td>\n",
       "      <td>NaN</td>\n",
       "      <td>NaN</td>\n",
       "      <td>NaN</td>\n",
       "    </tr>\n",
       "  </tbody>\n",
       "</table>\n",
       "<p>3 rows × 30 columns</p>\n",
       "</div>"
      ],
      "text/plain": [
       "    pdb Hchain Lchain  model antigen_chain       antigen_type  \\\n",
       "0  9ds2      G      I      0         D | C  protein | protein   \n",
       "1  9ds2      H      J      0         B | A  protein | protein   \n",
       "2  9ds2      K      L      0         F | E  protein | protein   \n",
       "\n",
       "  antigen_het_name                                      antigen_name  \\\n",
       "0          NA | NA  hemagglutinin ha2 chain | hemagglutinin ha1 chai   \n",
       "1          NA | NA  hemagglutinin ha2 chain | hemagglutinin ha1 chai   \n",
       "2          NA | NA  hemagglutinin ha2 chain | hemagglutinin ha1 chai   \n",
       "\n",
       "                  short_header      date  ...   scfv engineered  \\\n",
       "0  VIRAL PROTEIN/IMMUNE SYSTEM  03/19/25  ...  False       True   \n",
       "1  VIRAL PROTEIN/IMMUNE SYSTEM  03/19/25  ...  False       True   \n",
       "2  VIRAL PROTEIN/IMMUNE SYSTEM  03/19/25  ...  False       True   \n",
       "\n",
       "  heavy_subclass light_subclass light_ctype affinity  delta_g affinity_method  \\\n",
       "0          IGHV3          IGKV3       Kappa      NaN      NaN             NaN   \n",
       "1          IGHV3          IGKV3       Kappa      NaN      NaN             NaN   \n",
       "2          IGHV3          IGKV3       Kappa      NaN      NaN             NaN   \n",
       "\n",
       "   temperature  pmid  \n",
       "0          NaN   NaN  \n",
       "1          NaN   NaN  \n",
       "2          NaN   NaN  \n",
       "\n",
       "[3 rows x 30 columns]"
      ]
     },
     "execution_count": 14,
     "metadata": {},
     "output_type": "execute_result"
    }
   ],
   "source": [
    "\n",
    "import pandas as pd\n",
    "df = pd.read_csv(\"../data/ab_ag.tsv\", sep=\"\\t\")\n",
    "df.head(3)\n",
    "\n",
    "\n"
   ]
  },
  {
   "cell_type": "code",
   "execution_count": 5,
   "id": "94737c29",
   "metadata": {},
   "outputs": [
    {
     "name": "stdout",
     "output_type": "stream",
     "text": [
      "c:\\Users\\082mi\\Documents\\GitHub\\group04-team02\\data exploration\n"
     ]
    }
   ],
   "source": [
    "import os\n",
    "print(os.getcwd())  # Zeigt dir, wo du gerade bist"
   ]
  },
  {
   "cell_type": "code",
   "execution_count": 13,
   "id": "b45cd437",
   "metadata": {},
   "outputs": [
    {
     "ename": "SyntaxError",
     "evalue": "invalid syntax. Perhaps you forgot a comma? (833231408.py, line 2)",
     "output_type": "error",
     "traceback": [
      "  \u001b[36mCell\u001b[39m\u001b[36m \u001b[39m\u001b[32mIn[13]\u001b[39m\u001b[32m, line 2\u001b[39m\n\u001b[31m    \u001b[39m\u001b[31mdf = pd.read_csv(''group04-team02/data/ab_ag.tsv'', sep=\"\\t\")\u001b[39m\n                     ^\n\u001b[31mSyntaxError\u001b[39m\u001b[31m:\u001b[39m invalid syntax. Perhaps you forgot a comma?\n"
     ]
    }
   ],
   "source": [
    "import pandas as pd\n",
    "df = pd.read_csv(''group04-team02/data/ab_ag.tsv'', sep=\"\\t\")\n",
    "df.head()\n",
    "\n",
    "df.head()\n",
    "\n"
   ]
  },
  {
   "cell_type": "code",
   "execution_count": null,
   "id": "02067164",
   "metadata": {},
   "outputs": [],
   "source": []
  }
 ],
 "metadata": {
  "kernelspec": {
   "display_name": "Python 3",
   "language": "python",
   "name": "python3"
  },
  "language_info": {
   "codemirror_mode": {
    "name": "ipython",
    "version": 3
   },
   "file_extension": ".py",
   "mimetype": "text/x-python",
   "name": "python",
   "nbconvert_exporter": "python",
   "pygments_lexer": "ipython3",
   "version": "3.11.9"
  }
 },
 "nbformat": 4,
 "nbformat_minor": 5
}
